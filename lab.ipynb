{
 "cells": [
  {
   "cell_type": "markdown",
   "metadata": {},
   "source": [
    "# Files and Tokenization\n",
    "\n",
    "Using what we have learned in class so far, fork this repository, then:\n",
    "\n",
    "- Tokenize all of `book_9.txt`. What kinds of errors do you encounter? What other difficulties does this process present? How did you refine your tokenization process through experimentation?\n",
    "- How many tokens does your tokenization method obtain? How many types? (Remember what tokens and types are?)"
   ]
  },
  {
   "cell_type": "code",
   "execution_count": null,
   "metadata": {
    "vscode": {
     "languageId": "plaintext"
    }
   },
   "outputs": [],
   "source": [
    "# your code here"
   ]
  }
 ],
 "metadata": {
  "language_info": {
   "name": "python"
  }
 },
 "nbformat": 4,
 "nbformat_minor": 2
}
